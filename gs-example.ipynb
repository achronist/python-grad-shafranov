{
 "cells": [
  {
   "cell_type": "code",
   "execution_count": null,
   "metadata": {
    "collapsed": true
   },
   "outputs": [],
   "source": [
    "# Meritt Reynolds,  Feburary 11, 2019\n",
    "# Develop a Python version of the Marklin Grad-Shafranov solver"
   ]
  },
  {
   "cell_type": "code",
   "execution_count": null,
   "metadata": {
    "collapsed": false
   },
   "outputs": [],
   "source": [
    "from numpy import *\n",
    "import matplotlib.pyplot as plt\n",
    "from scipy import sparse\n",
    "\n",
    "from gs import *"
   ]
  },
  {
   "cell_type": "code",
   "execution_count": null,
   "metadata": {
    "collapsed": false
   },
   "outputs": [],
   "source": [
    "a = random.randn(2,2)\n",
    "(np,ndim) = shape(a)\n",
    "print(np,ndim)\n",
    "\n"
   ]
  },
  {
   "cell_type": "code",
   "execution_count": null,
   "metadata": {
    "collapsed": true
   },
   "outputs": [],
   "source": [
    "class Taylor:\n",
    "    def __init__(self, psi, lam, rax):\n",
    "        self.psi = psi\n",
    "        self.lam = lam\n",
    "        self.rax = rax\n",
    "\n",
    "class GS:\n",
    "    def __init__(self):\n",
    "        self.ds = None\n",
    "    def __str__(self):\n",
    "        return \"Grad-Shafranov object\"\n"
   ]
  },
  {
   "cell_type": "code",
   "execution_count": null,
   "metadata": {
    "collapsed": false
   },
   "outputs": [],
   "source": [
    "class Mesh:\n",
    "    def __init__(self, r, z):\n",
    "        self.r = r;\n",
    "        self.z = z;\n",
    "        self.nx = shape(r)\n",
    "    def __str__(self):\n",
    "        return \"Mesh of size %d,%d\" % self.nx\n",
    "    \n"
   ]
  },
  {
   "cell_type": "code",
   "execution_count": null,
   "metadata": {
    "collapsed": false
   },
   "outputs": [],
   "source": [
    "rmin = 0\n",
    "rmax = 2\n",
    "nr = 29\n",
    "zmin = 0\n",
    "zmax = 1\n",
    "nz = 19\n",
    "\n",
    "(r,z) = meshgrid(linspace(rmin, rmax, nr), linspace(zmin, zmax, nz), indexing='ij')\n",
    "\n",
    "# Check that first index is radial-like, as is our convention\n",
    "print(r[0,0], r[1,0])\n",
    "\n",
    "# Check that second index is axial-like\n",
    "print(z[0,0], z[0,1])\n",
    "\n",
    "assert r[1,0] - r[0,0] > 0"
   ]
  },
  {
   "cell_type": "code",
   "execution_count": null,
   "metadata": {
    "collapsed": false
   },
   "outputs": [],
   "source": [
    "(X,Q) = gs_quad_version_of_rz_array(r, z)"
   ]
  },
  {
   "cell_type": "code",
   "execution_count": null,
   "metadata": {
    "collapsed": false
   },
   "outputs": [],
   "source": [
    "i = 0\n",
    "k = Q[i,:]\n",
    "print('r z:')\n",
    "for j in range(4):\n",
    "    print(X[k[j],:])"
   ]
  },
  {
   "cell_type": "code",
   "execution_count": null,
   "metadata": {
    "collapsed": false
   },
   "outputs": [],
   "source": [
    "m = Mesh(r, z)\n",
    "print(m)"
   ]
  },
  {
   "cell_type": "code",
   "execution_count": null,
   "metadata": {
    "collapsed": false
   },
   "outputs": [],
   "source": [
    "gs = gssetup(m)\n",
    "print(gs)"
   ]
  },
  {
   "cell_type": "code",
   "execution_count": null,
   "metadata": {
    "collapsed": false
   },
   "outputs": [],
   "source": [
    "# Visualize matrix structure\n",
    "plt.figure(figsize=(20,20))\n",
    "plt.spy(gs.ds,markersize=2)\n",
    "plt.show()"
   ]
  },
  {
   "cell_type": "code",
   "execution_count": null,
   "metadata": {
    "collapsed": false
   },
   "outputs": [],
   "source": [
    "# What does the boundary flag array look like\n",
    "m.bp = reshape(gs.bp, m.nx)\n",
    "plt.imshow(m.bp)\n",
    "plt.colorbar()\n",
    "plt.show()"
   ]
  },
  {
   "cell_type": "code",
   "execution_count": null,
   "metadata": {
    "collapsed": false
   },
   "outputs": [],
   "source": [
    "plt.plot(gs.ds.diagonal())\n",
    "plt.show()"
   ]
  },
  {
   "cell_type": "code",
   "execution_count": null,
   "metadata": {
    "collapsed": false
   },
   "outputs": [],
   "source": [
    "# Calculate Taylor state\n",
    "gs = gstaylor(gs, verbose=True)\n"
   ]
  },
  {
   "cell_type": "code",
   "execution_count": null,
   "metadata": {
    "collapsed": false,
    "scrolled": true
   },
   "outputs": [],
   "source": [
    "plt.figure(figsize=(10,10))\n",
    "plt.contourf(m.r, m.z, reshape(gs.psi, m.nx))\n",
    "plt.colorbar()\n",
    "plt.axis('equal')\n",
    "plt.xlabel('r')\n",
    "plt.ylabel('z')\n",
    "plt.title('Taylor state, $\\lambda_{fc}=%g$' % gs.taylor.lam)\n",
    "plt.show()"
   ]
  },
  {
   "cell_type": "code",
   "execution_count": null,
   "metadata": {
    "collapsed": false
   },
   "outputs": [],
   "source": [
    "# Lambda profile polynomial, rather hollow\n",
    "# Normalization of this function is irrelevant\n",
    "\n",
    "cLambda = array((-0.9,1,0))\n",
    "\n",
    "x = linspace(0, 1, 101)\n",
    "plt.plot(x, polyval(cLambda, x))\n",
    "plt.show()"
   ]
  },
  {
   "cell_type": "code",
   "execution_count": null,
   "metadata": {
    "collapsed": false
   },
   "outputs": [],
   "source": [
    "# Integral of lambda polynomial is F polynomial\n",
    "# We could set an offset, but for now leave it zero\n",
    "\n",
    "gs.Fpoly = polyint(cLambda)\n",
    "\n",
    "# Solve the GS equation\n",
    "gs.Iternums = 100\n",
    "gs = gspoly(gs)"
   ]
  },
  {
   "cell_type": "code",
   "execution_count": null,
   "metadata": {
    "collapsed": false
   },
   "outputs": [],
   "source": [
    "plt.figure(figsize=(10,6))\n",
    "cs = plt.contour(m.r, m.z, reshape(gs.psi, m.nx), linspace(0, 1, 11), colors='k')\n",
    "plt.clabel(cs, fmt='%g')\n",
    "plt.axis('equal')\n",
    "plt.xlabel('r')\n",
    "plt.ylabel('z')\n",
    "plt.title('GS solution, contours of $\\psi$')\n",
    "plt.show()"
   ]
  },
  {
   "cell_type": "code",
   "execution_count": null,
   "metadata": {
    "collapsed": false
   },
   "outputs": [],
   "source": [
    "plt.figure(figsize=(10,6))\n",
    "plt.contourf(m.r, m.z, reshape(gs.dFdpsi, m.nx), 101)\n",
    "clb = plt.colorbar()\n",
    "clb.ax.set_title('$\\lambda$', fontsize=20)\n",
    "plt.axis('equal')\n",
    "plt.xlabel('r')\n",
    "plt.ylabel('z')\n",
    "#plt.title('GS solution, $\\lambda_{fc}=%g$' % gs.lam)\n",
    "plt.show()"
   ]
  },
  {
   "cell_type": "code",
   "execution_count": null,
   "metadata": {
    "collapsed": false
   },
   "outputs": [],
   "source": [
    "plt.plot(gs.psi, gs.dFdpsi, '.')\n",
    "plt.xlabel('$\\psi$')\n",
    "plt.ylabel('$dF/d\\psi$')\n",
    "plt.show()"
   ]
  },
  {
   "cell_type": "code",
   "execution_count": null,
   "metadata": {
    "collapsed": false
   },
   "outputs": [],
   "source": [
    "# The delstar operator is -(r/a)*w\n",
    "# r*Jphi = -delstar*psi = (r/a)*w*psi\n",
    "# a*Jphi = w*psi\n",
    "# current is sum of this, so\n",
    "# dCurrent = w*psi\n",
    "# We have sum(dCurrent) = 0\n",
    "# To get total plasma current we exclude boundary points\n",
    "\n",
    "dCurrent = gs.ds.dot(gs.psi)\n",
    "print('total current:', sum(dCurrent))\n",
    "\n",
    "current = sum(dCurrent[~gs.bp])\n",
    "print('plasma current:', current)\n",
    "\n",
    "dCurrent[gs.bp] = 0\n",
    "plt.imshow(reshape(dCurrent,m.nx))\n",
    "plt.show()\n",
    "\n"
   ]
  },
  {
   "cell_type": "code",
   "execution_count": null,
   "metadata": {
    "collapsed": false
   },
   "outputs": [],
   "source": [
    "m.psi = reshape(gs.psi, m.nx)\n",
    "plt.plot(m.psi)\n",
    "plt.show()"
   ]
  }
 ],
 "metadata": {
  "kernelspec": {
   "display_name": "Python 3",
   "language": "python",
   "name": "python3"
  },
  "language_info": {
   "codemirror_mode": {
    "name": "ipython",
    "version": 3
   },
   "file_extension": ".py",
   "mimetype": "text/x-python",
   "name": "python",
   "nbconvert_exporter": "python",
   "pygments_lexer": "ipython3",
   "version": "3.6.0"
  }
 },
 "nbformat": 4,
 "nbformat_minor": 2
}
